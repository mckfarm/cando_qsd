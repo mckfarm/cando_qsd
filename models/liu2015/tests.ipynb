{
 "cells": [
  {
   "cell_type": "markdown",
   "id": "58116140-8972-49ba-85ad-fbcb6ee39ce3",
   "metadata": {},
   "source": [
    "# QSDSan test notebook"
   ]
  },
  {
   "cell_type": "code",
   "execution_count": 58,
   "id": "398ee14d-71be-4032-b6d9-8129937c9bf0",
   "metadata": {},
   "outputs": [],
   "source": [
    "import pandas as pd\n",
    "import qsdsan as qs\n",
    "su = qs.sanunits"
   ]
  },
  {
   "cell_type": "code",
   "execution_count": 59,
   "id": "decfe6e4-2229-4da2-a3a9-e4cf6fe69805",
   "metadata": {},
   "outputs": [],
   "source": [
    "# water\n",
    "H2O = qs.Component(ID='H2O', search_ID='H2O',\n",
    "                    particle_size='Soluble', degradability='Undegradable',\n",
    "                    organic=False)\n",
    "\n",
    "# substrate \n",
    "\n",
    "S_NO3 = qs.Component('S_NO3', search_ID='Nitrate', measured_as='N', phase='l',\n",
    "                    particle_size='Soluble', degradability='Undegradable',\n",
    "                    organic=False)\n",
    "\n",
    "S_NO2 = qs.Component('S_NO2', search_ID='PubChem=946', measured_as='N', phase='l',\n",
    "                    particle_size='Soluble', degradability='Undegradable',\n",
    "                    organic=False)\n",
    "\n",
    "S_NO = qs.Component('S_NO', search_ID='Nitric oxide', measured_as='N', phase='l',\n",
    "                    particle_size='Soluble', degradability='Undegradable',\n",
    "                    organic=False)\n",
    "\n",
    "S_N2O = qs.Component('S_N2O', search_ID='Nitrous oxide', measured_as='N', phase='g',\n",
    "                    particle_size='Dissolved gas', degradability='Undegradable',\n",
    "                    organic=False)\n",
    "\n",
    "S_N2 = qs.Component('S_N2', search_ID='Nitrogen gas', measured_as='N', phase='g',\n",
    "                    particle_size='Dissolved gas', degradability='Undegradable',\n",
    "                    organic=False)\n",
    "\n",
    "S_O2 = qs.Component('S_O2', search_ID='Oxygen', measured_as='', phase='g',\n",
    "                    particle_size='Dissolved gas', degradability='Undegradable',\n",
    "                    organic=False)\n",
    "\n",
    "S_PO4 = qs.Component('S_PO4', search_ID='Orthophosphate', measured_as='P', phase='l',\n",
    "                    particle_size='Soluble', degradability='Undegradable',\n",
    "                    organic=False)\n",
    "\n",
    "\n",
    "\n",
    "## C source\n",
    "S_S = qs.Component('S_S', search_ID='Acetate', measured_as = 'COD', phase='l',\n",
    "                     particle_size = 'Soluble', degradability = 'Readily',\n",
    "                     organic = True)\n",
    "\n",
    "# particulates\n",
    "X_DPAO = qs.Component('X_DPAO', formula = 'C5H7O2N', measured_as = 'COD', phase='l',\n",
    "                     particle_size = 'Particulate', degradability = 'Biological',\n",
    "                     organic = True)\n",
    "\n",
    "X_PHA = qs.Component('X_PHA', measured_as = 'COD', phase='l',\n",
    "                     particle_size = 'Particulate', degradability = 'Slowly',\n",
    "                     organic = True)\n",
    "\n",
    "X_PP = qs.Component('X_PP', measured_as = 'P', phase='l',\n",
    "                     particle_size = 'Particulate', degradability = 'Undegradable',\n",
    "                     organic = False)\n",
    "\n",
    "X_I = qs.Component('X_I', measured_as = 'COD', phase='l',\n",
    "                     particle_size = 'Particulate', degradability = 'Undegradable',\n",
    "                     organic = True)\n",
    "\n",
    "# make into components obj\n",
    "cmps = qs.Components((H2O, S_NO3, S_NO2, S_NO, S_N2O, S_N2, S_PO4, S_O2, S_S, X_DPAO, X_PHA, X_PP, X_I))\n",
    "\n",
    "# fill in cmps with some additional data, filling in thermosteam blanks with properties of water\n",
    "\n",
    "for i in cmps:\n",
    "    if i is H2O:\n",
    "        continue # continue means skip the rest of the codes and continue with the next one in the loop\n",
    "    i.default()\n",
    "    i.copy_models_from(H2O, names=('sigma', 'epsilon', 'kappa', 'V', 'Cn', 'mu'))\n",
    "\n",
    "cmps.compile()\n",
    "\n",
    "# set as default components for the rest of the file\n",
    "qs.set_thermo(cmps) "
   ]
  },
  {
   "cell_type": "code",
   "execution_count": 60,
   "id": "ae7260ae-222c-4e43-b889-e6d1291729f8",
   "metadata": {},
   "outputs": [
    {
     "data": {
      "text/plain": [
       "array([[ 0.   ,  0.   ,  0.   ,  0.   ,  0.   ,  0.   ,  0.3  ,  0.   ,\n",
       "        -1.   ,  0.   ,  1.   , -0.3  ,  0.   ],\n",
       "       [ 0.   , -0.175,  0.175,  0.   ,  0.   ,  0.   , -1.   ,  0.   ,\n",
       "         0.   ,  0.   , -0.2  ,  1.   ,  0.   ],\n",
       "       [ 0.   ,  0.   , -0.351,  0.351,  0.   ,  0.   , -1.   ,  0.   ,\n",
       "         0.   ,  0.   , -0.2  ,  1.   ,  0.   ],\n",
       "       [ 0.   ,  0.   ,  0.   , -0.351,  0.351,  0.   , -1.   ,  0.   ,\n",
       "         0.   ,  0.   , -0.2  ,  1.   ,  0.   ],\n",
       "       [ 0.   ,  0.   ,  0.   ,  0.   , -0.351,  0.351, -1.   ,  0.   ,\n",
       "         0.   ,  0.   , -0.2  ,  1.   ,  0.   ],\n",
       "       [ 0.   , -0.877,  0.877,  0.   ,  0.   ,  0.   , -0.02 ,  0.   ,\n",
       "         0.   ,  1.   , -2.   ,  0.   ,  0.   ],\n",
       "       [ 0.   ,  0.   , -1.754,  1.754,  0.   ,  0.   , -0.02 ,  0.   ,\n",
       "         0.   ,  1.   , -2.   ,  0.   ,  0.   ],\n",
       "       [ 0.   ,  0.   ,  0.   , -1.754,  1.754,  0.   , -0.02 ,  0.   ,\n",
       "         0.   ,  1.   , -2.   ,  0.   ,  0.   ],\n",
       "       [ 0.   ,  0.   ,  0.   ,  0.   , -1.754,  1.754, -0.02 ,  0.   ,\n",
       "         0.   ,  1.   , -2.   ,  0.   ,  0.   ]])"
      ]
     },
     "execution_count": 60,
     "metadata": {},
     "output_type": "execute_result"
    }
   ],
   "source": [
    "liu = qs.Processes.load_from_file(path = \"test_process.tsv\",\n",
    "                                  components = cmps,\n",
    "                                  compile = True)\n",
    "\n",
    "liu.set_parameters(Y_PO4 = 0.3, Y_PHA = 0.2, Y_DPAO_NOX = 0.5,\n",
    "                   i_P_BM = 0.02, i_P_XI = 0.01, f_I = 0.2,\n",
    "                   q_PHA = 0.53, K_S_DPAO = 10, K_PP_DPAO = 0.05, \n",
    "                   q_PP = 0.0375, K_PO4_PP = 0.2, K_PHA = 0.1,\n",
    "                   K_MAX_DPAO = 0.2, K_iPP_DPAO = 0.05, K_DPAO_PO4 = 0.05, \n",
    "                   mu_DPAO1 = 0.07, mu_DPAO2 = 0.019, mu_DPAO3 = 0.142, mu_DPAO4 = 0.018, \n",
    "                   K_NO3 = 0.251, K_NO2 = 0.81, K_NO = 0.0021, K_N2O = 0.0052, K_NOX = 0.5,\n",
    "                   b_DPAO = 0.005, b_PP = 0.005, b_PHA = 0.005, \n",
    "                   mu_DPAO5 = 0.01, Y_DPAO_O2 = 0.5, K_O2 = 0.2)\n",
    "\n",
    "liu.stoichio_eval()"
   ]
  },
  {
   "cell_type": "code",
   "execution_count": 56,
   "id": "93ed084f-ad69-4d97-ba6a-6e9e4ee4d461",
   "metadata": {},
   "outputs": [],
   "source": [
    "ws1 = qs.WasteStream()\n",
    "ws1.set_flow_by_concentration(flow_tot=100, \n",
    "                              concentrations={'S_S':100}, \n",
    "                              units=('L/hr', 'mg/L'))"
   ]
  },
  {
   "cell_type": "code",
   "execution_count": 62,
   "id": "0c5bd95e-0f60-4dec-b235-c1431e2562a4",
   "metadata": {},
   "outputs": [
    {
     "name": "stdout",
     "output_type": "stream",
     "text": [
      "CSTR: U17\n",
      "ins...\n",
      "[0] ws33\n",
      "phase: 'l', T: 298.15 K, P: 101325 Pa\n",
      "flow (g/hr): H2O  9.97e+04\n",
      "                S_S  10\n",
      "    WasteStream-specific properties:\n",
      "     pH         : 7.0\n",
      "     COD        : 100.0 mg/L\n",
      "     TC         : 37.5 mg/L\n",
      "     TOC        : 37.5 mg/L\n",
      "outs...\n",
      "[0] ws38\n",
      "phase: 'l', T: 298.15 K, P: 101325 Pa\n",
      "flow (g/hr): H2O     9.95e+04\n",
      "                S_O2    0.2\n",
      "                S_S     0.0717\n",
      "                X_DPAO  49.6\n",
      "    WasteStream-specific properties:\n",
      "     pH         : 7.0\n",
      "     COD        : 497.1 mg/L\n",
      "     TC         : 186.6 mg/L\n",
      "     TOC        : 186.6 mg/L\n",
      "     TN         : 43.5 mg/L\n"
     ]
    },
    {
     "name": "stderr",
     "output_type": "stream",
     "text": [
      "/var/folders/07/wdmj08kn2v5bbzpqlyrrz3_80000gn/T/ipykernel_75462/2851393507.py:1: RuntimeWarning: undocked inlet stream ws33 from unit U16; ws33 is now docked at U17\n",
      "  cstr = su.CSTR(ins = ws1, suspended_growth_model = liu)\n"
     ]
    }
   ],
   "source": [
    "cstr = su.CSTR(ins = ws1, suspended_growth_model = liu)\n",
    "cstr.set_init_conc(X_DPAO = 500)\n",
    "cstr.simulate(t_span=(0, 3))\n",
    "cstr.show()"
   ]
  },
  {
   "cell_type": "code",
   "execution_count": null,
   "id": "b2c91be7-4759-4e14-983c-41215689c557",
   "metadata": {},
   "outputs": [],
   "source": []
  }
 ],
 "metadata": {
  "kernelspec": {
   "display_name": "Python 3 (ipykernel)",
   "language": "python",
   "name": "python3"
  },
  "language_info": {
   "codemirror_mode": {
    "name": "ipython",
    "version": 3
   },
   "file_extension": ".py",
   "mimetype": "text/x-python",
   "name": "python",
   "nbconvert_exporter": "python",
   "pygments_lexer": "ipython3",
   "version": "3.11.4"
  }
 },
 "nbformat": 4,
 "nbformat_minor": 5
}
