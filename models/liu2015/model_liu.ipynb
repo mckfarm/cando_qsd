{
 "cells": [
  {
   "cell_type": "markdown",
   "id": "431376da-4b32-400f-a165-36679cde2c5a",
   "metadata": {},
   "source": [
    "# DPAO model for N2O production"
   ]
  },
  {
   "cell_type": "code",
   "execution_count": 1,
   "id": "69b66d77-e686-4633-9eda-1edf79757f2a",
   "metadata": {},
   "outputs": [],
   "source": [
    "# package import\n",
    "import pandas as pd\n",
    "import qsdsan as qs\n",
    "from qsdsan.utils import load_data"
   ]
  },
  {
   "cell_type": "markdown",
   "id": "6206f215-380f-4c5d-865f-e20b13b2e306",
   "metadata": {},
   "source": [
    "Set up components"
   ]
  },
  {
   "cell_type": "code",
   "execution_count": 2,
   "id": "b66befbd-4a79-4ab0-8778-8ba802ccccbb",
   "metadata": {},
   "outputs": [],
   "source": [
    "# water\n",
    "H2O = qs.Component(ID='H2O', search_ID='H2O',\n",
    "                    particle_size='Soluble', degradability='Undegradable',\n",
    "                    organic=False)\n",
    "\n",
    "# substrate \n",
    "\n",
    "S_NO3 = qs.Component('S_NO3', search_ID='Nitrate', measured_as='N', phase='l',\n",
    "                    particle_size='Soluble', degradability='Undegradable',\n",
    "                    organic=False)\n",
    "\n",
    "S_NO2 = qs.Component('S_NO2', search_ID=\"PubChem=946\", measured_as='N', phase='l',\n",
    "                    particle_size='Soluble', degradability='Undegradable',\n",
    "                    organic=False)\n",
    "\n",
    "S_NO = qs.Component('S_NO', search_ID='Nitric oxide', measured_as='N', phase='l',\n",
    "                    particle_size='Soluble', degradability='Undegradable',\n",
    "                    organic=False)\n",
    "\n",
    "S_N2O = qs.Component('S_N2O', search_ID='Nitrous oxide', measured_as='N', phase='g',\n",
    "                    particle_size='Dissolved gas', degradability='Undegradable',\n",
    "                    organic=False)\n",
    "\n",
    "S_N2 = qs.Component('S_N2', search_ID='Nitrogen gas', measured_as='N', phase='g',\n",
    "                    particle_size='Dissolved gas', degradability='Undegradable',\n",
    "                    organic=False)\n",
    "\n",
    "S_O2 = qs.Component('S_O2', search_ID='Oxygen', measured_as='', phase='g',\n",
    "                    particle_size='Dissolved gas', degradability='Undegradable',\n",
    "                    organic=False)\n",
    "\n",
    "S_PO4 = qs.Component('S_PO4', search_ID='Orthophosphate', measured_as='P', phase='l',\n",
    "                    particle_size='Soluble', degradability='Undegradable',\n",
    "                    organic=False)\n",
    "\n",
    "\n",
    "\n",
    "## C source\n",
    "S_S = qs.Component('S_S', search_ID='Acetate', measured_as = 'COD', phase='l',\n",
    "                     particle_size = 'Soluble', degradability = 'Readily',\n",
    "                     organic = True)\n",
    "\n",
    "# particulates\n",
    "X_DPAO = qs.Component('X_DPAO', formula = 'C5H7O2N', measured_as = 'COD', phase='l',\n",
    "                     particle_size = 'Particulate', degradability = 'Biological',\n",
    "                     organic = True)\n",
    "\n",
    "X_PHA = qs.Component('X_PHA', measured_as = 'COD', phase='l',\n",
    "                     particle_size = 'Particulate', degradability = 'Slowly',\n",
    "                     organic = True)\n",
    "\n",
    "X_PP = qs.Component('X_PP', measured_as = 'P', phase='l',\n",
    "                     particle_size = 'Particulate', degradability = 'Undegradable',\n",
    "                     organic = False)\n",
    "\n",
    "X_I = qs.Component('X_I', measured_as = 'COD', phase='l',\n",
    "                     particle_size = 'Particulate', degradability = 'Undegradable',\n",
    "                     organic = True)\n",
    "\n",
    "# make into components obj\n",
    "cmps = qs.Components((H2O, S_NO3, S_NO2, S_NO, S_N2O, S_N2, S_PO4, S_O2, S_S, X_DPAO, X_PHA, X_PP, X_I))"
   ]
  },
  {
   "cell_type": "code",
   "execution_count": 3,
   "id": "4c55672d-8c40-4a76-b97b-cf25eac843b2",
   "metadata": {},
   "outputs": [],
   "source": [
    "# fill in cmps with some additional data, filling in thermosteam blanks with properties of water\n",
    "\n",
    "for i in cmps:\n",
    "    if i is H2O:\n",
    "        continue # \"continue\" means skip the rest of the codes and continue with the next one in the loop\n",
    "    i.default()\n",
    "    i.copy_models_from(H2O, names=('sigma', 'epsilon', 'kappa', 'V', 'Cn', 'mu'))\n",
    "\n",
    "cmps.compile()\n",
    "\n",
    "# set as default components for the rest of the file\n",
    "qs.set_thermo(cmps) "
   ]
  },
  {
   "cell_type": "markdown",
   "id": "04a1c122-0697-4877-93b5-cc1b1efac98d",
   "metadata": {},
   "source": [
    "Set up process"
   ]
  },
  {
   "cell_type": "code",
   "execution_count": 4,
   "id": "2432bb15-0e8b-4eaa-ad82-6b1a6e7fb949",
   "metadata": {},
   "outputs": [
    {
     "name": "stdout",
     "output_type": "stream",
     "text": [
      "CompiledProcesses([anaerobic storage of X_PHA, anoxic storage of X_PP on NO3-, anoxic storage of X_PP on NO2-, anoxic storage of X_PP on NO, anoxic storage of X_PP on N2O, anoxic growth on NO3-, anoxic growth on NO2-, anoxic growth on NO, anoxic growth on N2O, anoxic endogenous respiration on NO3-, anoxic endogenous respiration on NO2-, anoxic endogenous respiration on NO, anoxic endogenous respiration on N2O, anoxic respiration of X_PP on NO3-, anoxic respiration of X_PP on NO2-, anoxic respiration of X_PP on NO, anoxic respiration of X_PP on N2O, anoxic respiration of X_PHA on NO3-, anoxic respiration of X_PHA on NO2-, anoxic respiration of X_PHA on NO, anoxic respiration of X_PHA on N2O, aerobic storage of X_PP on O2, aerobic growth on O2, aerobic endogenous respiration on O2, aerobic respiration of X_PP on O2, aerobic respiration of X_PHA on O2])\n"
     ]
    }
   ],
   "source": [
    "qs.Processes.load_from_file(path = \"_process_liu.tsv\", \n",
    "                            conserved_for=(\"C\", \"P\"),\n",
    "                            parameters=(\"Y_PO4\", \"Y_PHA\", \"Y_DPAO_NOX\", \"Y_DPAO_O2\", \"i_P_BM\", \"i_P_XI\", \"f_I\",\n",
    "                                         \"q_PHA\", \"K_S_DPAO\", \"K_PP_DPAO\", \"q_PP\", \"K_PO4_PP\", \"K_PHA\",\n",
    "                                         \"K_MAX_DPAO\", \"K_iPP_DPAO\", \"K_DPAO_PO4\", \n",
    "                                         \"mu_DPAO1\", \"mu_DPAO2\", \"mu_DPAO3\", \"mu_DPAO4\", \"mu_DPAO5\",\n",
    "                                         \"K_NO3\", \"K_NO2\", \"K_NO\", \"K_N2O\",\n",
    "                                         \"b_DPAO\", \"b_PP\", \"b_PHA\", \"K_NOX\", \"K_O2\"),\n",
    "                            compile = True)"
   ]
  },
  {
   "cell_type": "markdown",
   "id": "547addb0-fae4-45a6-8c48-72af99c14b56",
   "metadata": {},
   "source": [
    "Testing"
   ]
  },
  {
   "cell_type": "code",
   "execution_count": 5,
   "id": "9cc2439a-fe3c-4b7c-9686-916db099a7bf",
   "metadata": {},
   "outputs": [],
   "source": [
    "ins1 = qs.WasteStream(H2O=100)\n",
    "ins2 = ins1.copy()\n",
    "ins2.imol[\"X_DPAO\"] = 0.0011"
   ]
  },
  {
   "cell_type": "code",
   "execution_count": 11,
   "id": "dc9b1d49-2e78-47ba-b9a1-3d80402d3853",
   "metadata": {},
   "outputs": [
    {
     "data": {
      "text/plain": [
       "<module 'qsdsan.sanunits' from '/Users/mckenna/miniconda3/envs/qsdsan/lib/python3.11/site-packages/qsdsan/sanunits/__init__.py'>"
      ]
     },
     "execution_count": 11,
     "metadata": {},
     "output_type": "execute_result"
    }
   ],
   "source": [
    "su = qs.sanunits\n",
    "su"
   ]
  }
 ],
 "metadata": {
  "kernelspec": {
   "display_name": "Python 3 (ipykernel)",
   "language": "python",
   "name": "python3"
  },
  "language_info": {
   "codemirror_mode": {
    "name": "ipython",
    "version": 3
   },
   "file_extension": ".py",
   "mimetype": "text/x-python",
   "name": "python",
   "nbconvert_exporter": "python",
   "pygments_lexer": "ipython3",
   "version": "3.11.4"
  }
 },
 "nbformat": 4,
 "nbformat_minor": 5
}
