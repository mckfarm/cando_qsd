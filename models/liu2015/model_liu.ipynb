{
 "cells": [
  {
   "cell_type": "markdown",
   "id": "906efda3",
   "metadata": {},
   "source": [
    "# DPAO model for N2O production"
   ]
  },
  {
   "cell_type": "code",
   "execution_count": 1,
   "id": "b7419f76",
   "metadata": {},
   "outputs": [],
   "source": [
    "# package import\n",
    "import pandas as pd\n",
    "import numpy as np\n",
    "import qsdsan as qs\n",
    "import biosteam as bst\n",
    "\n",
    "# set key variables\n",
    "su = qs.sanunits"
   ]
  },
  {
   "cell_type": "markdown",
   "id": "5a8d8306",
   "metadata": {},
   "source": [
    "# Set up components\n",
    "I ended up doing this manually rather than through a spreadsheet...I think I could revise my spreadsheet to make this work as an import though."
   ]
  },
  {
   "cell_type": "code",
   "execution_count": 2,
   "id": "836e65fe",
   "metadata": {},
   "outputs": [],
   "source": [
    "# water\n",
    "H2O = qs.Component(ID='H2O', search_ID='H2O',\n",
    "                    particle_size='Soluble', degradability='Undegradable',\n",
    "                    organic=False)\n",
    "\n",
    "# substrate \n",
    "\n",
    "S_NO3 = qs.Component('S_NO3', search_ID='Nitrate', measured_as='N', phase='l',\n",
    "                    particle_size='Soluble', degradability='Undegradable',\n",
    "                    organic=False)\n",
    "\n",
    "S_NO2 = qs.Component('S_NO2', search_ID='PubChem=946', measured_as='N', phase='l',\n",
    "                    particle_size='Soluble', degradability='Undegradable',\n",
    "                    organic=False)\n",
    "\n",
    "S_NO = qs.Component('S_NO', search_ID='Nitric oxide', measured_as='N', phase='l',\n",
    "                    particle_size='Soluble', degradability='Undegradable',\n",
    "                    organic=False)\n",
    "\n",
    "S_N2O = qs.Component('S_N2O', search_ID='Nitrous oxide', measured_as='N', phase='g',\n",
    "                    particle_size='Dissolved gas', degradability='Undegradable',\n",
    "                    organic=False)\n",
    "\n",
    "S_N2 = qs.Component('S_N2', search_ID='Nitrogen gas', measured_as='N', phase='g',\n",
    "                    particle_size='Dissolved gas', degradability='Undegradable',\n",
    "                    organic=False)\n",
    "\n",
    "S_O2 = qs.Component('S_O2', search_ID='Oxygen', measured_as='', phase='g',\n",
    "                    particle_size='Dissolved gas', degradability='Undegradable',\n",
    "                    organic=False)\n",
    "\n",
    "S_PO4 = qs.Component('S_PO4', search_ID='Orthophosphate', measured_as='P', phase='l',\n",
    "                    particle_size='Soluble', degradability='Undegradable',\n",
    "                    organic=False)\n",
    "\n",
    "\n",
    "## C source\n",
    "S_S = qs.Component('S_S', search_ID='Acetate', measured_as = 'COD', phase='l',\n",
    "                     particle_size = 'Soluble', degradability = 'Readily',\n",
    "                     organic = True)\n",
    "\n",
    "# particulates\n",
    "X_DPAO = qs.Component('X_DPAO', formula = 'C5H7O2N', measured_as = 'COD', phase='l',\n",
    "                     particle_size = 'Particulate', degradability = 'Biological',\n",
    "                     organic = True)\n",
    "\n",
    "X_PHA = qs.Component('X_PHA', measured_as = 'COD', phase='l',\n",
    "                     particle_size = 'Particulate', degradability = 'Slowly',\n",
    "                     organic = True)\n",
    "\n",
    "X_PP = qs.Component('X_PP', measured_as = 'P', phase='l',\n",
    "                     particle_size = 'Particulate', degradability = 'Undegradable',\n",
    "                     organic = False)\n",
    "\n",
    "X_I = qs.Component('X_I', measured_as = 'COD', phase='l',\n",
    "                     particle_size = 'Particulate', degradability = 'Undegradable',\n",
    "                     organic = True)\n",
    "\n",
    "# make into components obj\n",
    "cmps = qs.Components((H2O, S_NO3, S_NO2, S_NO, S_N2O, S_N2, S_PO4, S_O2, S_S, X_DPAO, X_PHA, X_PP, X_I))"
   ]
  },
  {
   "cell_type": "code",
   "execution_count": 3,
   "id": "2c8df735",
   "metadata": {},
   "outputs": [],
   "source": [
    "# fill in cmps with some additional data, filling in thermosteam blanks with properties of water\n",
    "\n",
    "for i in cmps:\n",
    "    if i is H2O:\n",
    "        continue # continue means skip the rest of the codes and continue with the next one in the loop\n",
    "    i.default()\n",
    "    i.copy_models_from(H2O, names=('sigma', 'epsilon', 'kappa', 'V', 'Cn', 'mu'))\n",
    "\n",
    "cmps.compile()\n",
    "\n",
    "# set as default components for the rest of the file\n",
    "qs.set_thermo(cmps) "
   ]
  },
  {
   "cell_type": "markdown",
   "id": "9ecbea3e",
   "metadata": {},
   "source": [
    "# Set up process\n",
    "This is entirely coded in a spreadsheet. The only annoying part was typing in all the parameters manually."
   ]
  },
  {
   "cell_type": "code",
   "execution_count": 4,
   "id": "d7794c76",
   "metadata": {},
   "outputs": [],
   "source": [
    "# liu = qs.Processes.load_from_file(path = \"test_process.tsv\", \n",
    "#                             conserved_for=(\"C\", \"P\"),\n",
    "#                             parameters=(\"Y_PO4\", \"Y_PHA\", \"Y_DPAO_NOX\", \n",
    "#                                         \"i_P_BM\", \"i_P_XI\", \"f_I\",\n",
    "#                                          \"q_PHA\", \"K_S_DPAO\", \"K_PP_DPAO\", \"q_PP\", \"K_PO4_PP\", \"K_PHA\",\n",
    "#                                          \"K_MAX_DPAO\", \"K_iPP_DPAO\", \"K_DPAO_PO4\", \n",
    "#                                          \"mu_DPAO1\", \"mu_DPAO2\", \"mu_DPAO3\", \"mu_DPAO4\",\n",
    "#                                          \"K_NO3\", \"K_NO2\", \"K_NO\", \"K_N2O\",\n",
    "#                                          \"b_DPAO\", \"b_PP\", \"b_PHA\", \"K_NOX\"),\n",
    "#                             compile = True)\n",
    "\n",
    "liu = qs.Processes.load_from_file(path = \"test_process.tsv\",\n",
    "                                  compile = True)"
   ]
  },
  {
   "cell_type": "code",
   "execution_count": 5,
   "id": "cc851016",
   "metadata": {},
   "outputs": [],
   "source": [
    "# values taken directly from SI of Liu paper\n",
    "liu.set_parameters(Y_PO4 = 0.3, Y_PHA = 0.2, Y_DPAO_NOX = 0.5,\n",
    "                   i_P_BM = 0.02, i_P_XI = 0.01, f_I = 0.2,\n",
    "                   q_PHA = 0.53, K_S_DPAO = 10, K_PP_DPAO = 0.05, \n",
    "                   q_PP = 0.0375, K_PO4_PP = 0.2, K_PHA = 0.1,\n",
    "                   K_MAX_DPAO = 0.2, K_iPP_DPAO = 0.05, K_DPAO_PO4 = 0.05, \n",
    "                   mu_DPAO1 = 0.07, mu_DPAO2 = 0.019, mu_DPAO3 = 0.142, mu_DPAO4 = 0.018, \n",
    "                   K_NO3 = 0.251, K_NO2 = 0.81, K_NO = 0.0021, K_N2O = 0.0052, K_NOX = 0.5,\n",
    "                   b_DPAO = 0.005, b_PP = 0.005, b_PHA = 0.005)\n",
    "\n",
    "# check for stoichiometric matrix completion\n",
    "# liu.stoichio_eval()"
   ]
  },
  {
   "cell_type": "markdown",
   "id": "e313622d",
   "metadata": {},
   "source": [
    "# Setting up waste stream"
   ]
  },
  {
   "cell_type": "code",
   "execution_count": 6,
   "id": "b909012b",
   "metadata": {},
   "outputs": [
    {
     "name": "stdout",
     "output_type": "stream",
     "text": [
      "WasteStream: inf\n",
      "phase: 'l', T: 298.15 K, P: 101325 Pa\n",
      "flow (g/hr): H2O    9.97e+04\n",
      "             S_PO4  1\n",
      "             S_S    10\n",
      " WasteStream-specific properties:\n",
      "  pH         : 7.0\n",
      "  Alkalinity : 2.5 mg/L\n",
      "  COD        : 100.0 mg/L\n",
      "  TC         : 37.5 mg/L\n",
      "  TOC        : 37.5 mg/L\n",
      "  TP         : 10.0 mg/L\n",
      " Component concentrations (mg/L):\n",
      "  H2O     997032.6\n",
      "  S_PO4   10.0\n",
      "  S_S     100.0\n",
      "WasteStream: nit\n",
      "phase: 'l', T: 298.15 K, P: 101325 Pa\n",
      "flow (g/hr): H2O    10\n",
      "             S_NO2  0.5\n",
      " WasteStream-specific properties:\n",
      "  pH         : 7.0\n",
      "  Alkalinity : 2.5 mg/L\n",
      "  TN         : 48895.9 mg/L\n",
      " Component concentrations (mg/L):\n",
      "  H2O     977917.2\n",
      "  S_NO2   48895.9\n"
     ]
    }
   ],
   "source": [
    "inf = qs.WasteStream(\"inf\")\n",
    "inf.set_flow_by_concentration(flow_tot=100, \n",
    "                              concentrations={\"S_S\":100, \"S_PO4\":10}, \n",
    "                              units=(\"L/hr\", \"mg/L\", \"mg/L\"))\n",
    "inf.show()\n",
    "\n",
    "nit = qs.WasteStream(\"nit\", H2O = 10, S_NO2 = 0.5, units = \"g/hr\")\n",
    "nit.show()"
   ]
  },
  {
   "cell_type": "markdown",
   "id": "0cb16819",
   "metadata": {},
   "source": [
    "# Setting up san units"
   ]
  },
  {
   "cell_type": "code",
   "execution_count": 23,
   "id": "3d7b6141-582b-4e6c-9567-6db114de3a89",
   "metadata": {},
   "outputs": [],
   "source": [
    "# what % splits\n",
    "split_dict = {i.ID: 0.9 if i.particle_size == 'Particulate' else 0.1 for i in cmps}\n",
    "split_dict\n",
    "\n",
    "# in m3\n",
    "V_max_ana = 0.1\n",
    "V_max_anx = 0.2"
   ]
  },
  {
   "cell_type": "code",
   "execution_count": 24,
   "id": "6686a21f",
   "metadata": {},
   "outputs": [
    {
     "name": "stderr",
     "output_type": "stream",
     "text": [
      "/Users/mckenna/miniconda3/envs/qsdsan/lib/python3.11/site-packages/IPython/core/interactiveshell.py:3508: RuntimeWarning: <CSTR: ana> has been replaced in registry\n",
      "  exec(code_obj, self.user_global_ns, self.user_ns)\n",
      "/Users/mckenna/miniconda3/envs/qsdsan/lib/python3.11/site-packages/biosteam/utils/piping.py:324: RuntimeWarning: <WasteStream: recycle> has been replaced in registry\n",
      "  s = Stream(i, thermo=thermo)\n",
      "/Users/mckenna/miniconda3/envs/qsdsan/lib/python3.11/site-packages/qsdsan/_sanunit.py:289: RuntimeWarning: <System: ana_dynmock> has been replaced in registry\n",
      "  self._mock_dyn_sys = System(self.ID+'_dynmock', path=(self,))\n",
      "/Users/mckenna/miniconda3/envs/qsdsan/lib/python3.11/site-packages/IPython/core/interactiveshell.py:3508: RuntimeWarning: <CSTR: anx> has been replaced in registry\n",
      "  exec(code_obj, self.user_global_ns, self.user_ns)\n",
      "/Users/mckenna/miniconda3/envs/qsdsan/lib/python3.11/site-packages/qsdsan/_sanunit.py:289: RuntimeWarning: <System: anx_dynmock> has been replaced in registry\n",
      "  self._mock_dyn_sys = System(self.ID+'_dynmock', path=(self,))\n",
      "/Users/mckenna/miniconda3/envs/qsdsan/lib/python3.11/site-packages/IPython/core/interactiveshell.py:3508: RuntimeWarning: <Splitter: s1> has been replaced in registry\n",
      "  exec(code_obj, self.user_global_ns, self.user_ns)\n",
      "/Users/mckenna/miniconda3/envs/qsdsan/lib/python3.11/site-packages/biosteam/utils/piping.py:310: RuntimeWarning: <WasteStream: liquid_eff> has been replaced in registry\n",
      "  else dock(Stream(i, thermo=thermo)) for i in streams]\n",
      "/var/folders/07/wdmj08kn2v5bbzpqlyrrz3_80000gn/T/ipykernel_26137/1849678553.py:11: RuntimeWarning: <System: test_sys> has been replaced in registry\n",
      "  test_sys = bst.System(\"test_sys\", path = (ana, anx, sep), recycle = sep - 1)\n"
     ]
    }
   ],
   "source": [
    "ana = su.CSTR(\"ana\", ins = (inf, \"recycle\"), V_max = V_max_ana,\n",
    "              suspended_growth_model = liu, isdynamic = True)\n",
    "ana.set_init_conc(X_DPAO = 1000, X_PHA = 500, X_PP = 500, X_I = 200)\n",
    "\n",
    "anx = su.CSTR(\"anx\", ins = (ana-0, nit), V_max = V_max_anx, \n",
    "              suspended_growth_model = liu, isdynamic = True)\n",
    "anx.set_init_conc(X_DPAO = 1000, X_PHA = 500, X_PP = 500, X_I = 200)\n",
    "\n",
    "sep = su.Splitter(\"s1\", ins = anx-0, outs = (\"liquid_eff\", 1-ana), split = split_dict)\n",
    "\n",
    "test_sys = bst.System(\"test_sys\", path = (ana, anx, sep), recycle = sep - 1)\n",
    "\n",
    "# test_sys.diagram()"
   ]
  },
  {
   "cell_type": "code",
   "execution_count": 25,
   "id": "7e97f781",
   "metadata": {},
   "outputs": [],
   "source": [
    "liquid_eff = test_sys.flowsheet.stream.liquid_eff\n",
    "ml_ana = test_sys.flowsheet.unit.ana\n",
    "ml_anx = test_sys.flowsheet.unit.anx\n",
    "\n",
    "test_sys.set_dynamic_tracker(liquid_eff, ml_ana, ml_anx)"
   ]
  },
  {
   "cell_type": "code",
   "execution_count": 26,
   "id": "f0d5a304",
   "metadata": {},
   "outputs": [
    {
     "name": "stderr",
     "output_type": "stream",
     "text": [
      "/Users/mckenna/miniconda3/envs/qsdsan/lib/python3.11/site-packages/qsdsan/_sanunit.py:289: RuntimeWarning: <System: s1_dynmock> has been replaced in registry\n",
      "  self._mock_dyn_sys = System(self.ID+'_dynmock', path=(self,))\n"
     ]
    },
    {
     "ename": "KeyboardInterrupt",
     "evalue": "",
     "output_type": "error",
     "traceback": [
      "\u001b[0;31m---------------------------------------------------------------------------\u001b[0m",
      "\u001b[0;31mKeyboardInterrupt\u001b[0m                         Traceback (most recent call last)",
      "Cell \u001b[0;32mIn[26], line 1\u001b[0m\n\u001b[0;32m----> 1\u001b[0m \u001b[43mtest_sys\u001b[49m\u001b[38;5;241;43m.\u001b[39;49m\u001b[43mdynamic_run\u001b[49m\u001b[43m(\u001b[49m\u001b[43mt_span\u001b[49m\u001b[43m \u001b[49m\u001b[38;5;241;43m=\u001b[39;49m\u001b[43m \u001b[49m\u001b[43m(\u001b[49m\u001b[38;5;241;43m0\u001b[39;49m\u001b[43m,\u001b[49m\u001b[43m \u001b[49m\u001b[38;5;241;43m10\u001b[39;49m\u001b[43m)\u001b[49m\u001b[43m,\u001b[49m\n\u001b[1;32m      2\u001b[0m \u001b[43m                     \u001b[49m\u001b[43mstate_reset_hook\u001b[49m\u001b[43m \u001b[49m\u001b[38;5;241;43m=\u001b[39;49m\u001b[43m \u001b[49m\u001b[38;5;124;43m\"\u001b[39;49m\u001b[38;5;124;43mreset_cache\u001b[39;49m\u001b[38;5;124;43m\"\u001b[39;49m\u001b[43m,\u001b[49m\u001b[43m \u001b[49m\u001b[43mmethod\u001b[49m\u001b[43m \u001b[49m\u001b[38;5;241;43m=\u001b[39;49m\u001b[43m \u001b[49m\u001b[38;5;124;43m\"\u001b[39;49m\u001b[38;5;124;43mBDF\u001b[39;49m\u001b[38;5;124;43m\"\u001b[39;49m\u001b[43m)\u001b[49m\n",
      "File \u001b[0;32m~/miniconda3/envs/qsdsan/lib/python3.11/site-packages/biosteam/_system.py:2301\u001b[0m, in \u001b[0;36mSystem.dynamic_run\u001b[0;34m(self, **dynsim_kwargs)\u001b[0m\n\u001b[1;32m   2299\u001b[0m \u001b[38;5;66;03m# Integrate\u001b[39;00m\n\u001b[1;32m   2300\u001b[0m \u001b[38;5;28mself\u001b[39m\u001b[38;5;241m.\u001b[39mdynsim_kwargs[\u001b[38;5;124m'\u001b[39m\u001b[38;5;124mprint_t\u001b[39m\u001b[38;5;124m'\u001b[39m] \u001b[38;5;241m=\u001b[39m print_t \u001b[38;5;66;03m# self.dynsim_kwargs might be reset by `state_reset_hook`\u001b[39;00m\n\u001b[0;32m-> 2301\u001b[0m \u001b[38;5;28mself\u001b[39m\u001b[38;5;241m.\u001b[39mscope\u001b[38;5;241m.\u001b[39msol \u001b[38;5;241m=\u001b[39m sol \u001b[38;5;241m=\u001b[39m \u001b[43msolve_ivp\u001b[49m\u001b[43m(\u001b[49m\u001b[43mfun\u001b[49m\u001b[38;5;241;43m=\u001b[39;49m\u001b[38;5;28;43mself\u001b[39;49m\u001b[38;5;241;43m.\u001b[39;49m\u001b[43mDAE\u001b[49m\u001b[43m,\u001b[49m\u001b[43m \u001b[49m\u001b[43my0\u001b[49m\u001b[38;5;241;43m=\u001b[39;49m\u001b[43my0\u001b[49m\u001b[43m,\u001b[49m\u001b[43m \u001b[49m\u001b[38;5;241;43m*\u001b[39;49m\u001b[38;5;241;43m*\u001b[39;49m\u001b[43mdk_cp\u001b[49m\u001b[43m)\u001b[49m\n\u001b[1;32m   2302\u001b[0m \u001b[38;5;28;01mif\u001b[39;00m print_msg:\n\u001b[1;32m   2303\u001b[0m     \u001b[38;5;28;01mif\u001b[39;00m sol\u001b[38;5;241m.\u001b[39mstatus \u001b[38;5;241m==\u001b[39m \u001b[38;5;241m0\u001b[39m:\n",
      "File \u001b[0;32m~/miniconda3/envs/qsdsan/lib/python3.11/site-packages/scipy/integrate/_ivp/ivp.py:602\u001b[0m, in \u001b[0;36msolve_ivp\u001b[0;34m(fun, t_span, y0, method, t_eval, dense_output, events, vectorized, args, **options)\u001b[0m\n\u001b[1;32m    600\u001b[0m status \u001b[38;5;241m=\u001b[39m \u001b[38;5;28;01mNone\u001b[39;00m\n\u001b[1;32m    601\u001b[0m \u001b[38;5;28;01mwhile\u001b[39;00m status \u001b[38;5;129;01mis\u001b[39;00m \u001b[38;5;28;01mNone\u001b[39;00m:\n\u001b[0;32m--> 602\u001b[0m     message \u001b[38;5;241m=\u001b[39m \u001b[43msolver\u001b[49m\u001b[38;5;241;43m.\u001b[39;49m\u001b[43mstep\u001b[49m\u001b[43m(\u001b[49m\u001b[43m)\u001b[49m\n\u001b[1;32m    604\u001b[0m     \u001b[38;5;28;01mif\u001b[39;00m solver\u001b[38;5;241m.\u001b[39mstatus \u001b[38;5;241m==\u001b[39m \u001b[38;5;124m'\u001b[39m\u001b[38;5;124mfinished\u001b[39m\u001b[38;5;124m'\u001b[39m:\n\u001b[1;32m    605\u001b[0m         status \u001b[38;5;241m=\u001b[39m \u001b[38;5;241m0\u001b[39m\n",
      "File \u001b[0;32m~/miniconda3/envs/qsdsan/lib/python3.11/site-packages/scipy/integrate/_ivp/base.py:197\u001b[0m, in \u001b[0;36mOdeSolver.step\u001b[0;34m(self)\u001b[0m\n\u001b[1;32m    195\u001b[0m \u001b[38;5;28;01melse\u001b[39;00m:\n\u001b[1;32m    196\u001b[0m     t \u001b[38;5;241m=\u001b[39m \u001b[38;5;28mself\u001b[39m\u001b[38;5;241m.\u001b[39mt\n\u001b[0;32m--> 197\u001b[0m     success, message \u001b[38;5;241m=\u001b[39m \u001b[38;5;28;43mself\u001b[39;49m\u001b[38;5;241;43m.\u001b[39;49m\u001b[43m_step_impl\u001b[49m\u001b[43m(\u001b[49m\u001b[43m)\u001b[49m\n\u001b[1;32m    199\u001b[0m     \u001b[38;5;28;01mif\u001b[39;00m \u001b[38;5;129;01mnot\u001b[39;00m success:\n\u001b[1;32m    200\u001b[0m         \u001b[38;5;28mself\u001b[39m\u001b[38;5;241m.\u001b[39mstatus \u001b[38;5;241m=\u001b[39m \u001b[38;5;124m'\u001b[39m\u001b[38;5;124mfailed\u001b[39m\u001b[38;5;124m'\u001b[39m\n",
      "File \u001b[0;32m~/miniconda3/envs/qsdsan/lib/python3.11/site-packages/scipy/integrate/_ivp/bdf.py:366\u001b[0m, in \u001b[0;36mBDF._step_impl\u001b[0;34m(self)\u001b[0m\n\u001b[1;32m    363\u001b[0m \u001b[38;5;28;01mif\u001b[39;00m LU \u001b[38;5;129;01mis\u001b[39;00m \u001b[38;5;28;01mNone\u001b[39;00m:\n\u001b[1;32m    364\u001b[0m     LU \u001b[38;5;241m=\u001b[39m \u001b[38;5;28mself\u001b[39m\u001b[38;5;241m.\u001b[39mlu(\u001b[38;5;28mself\u001b[39m\u001b[38;5;241m.\u001b[39mI \u001b[38;5;241m-\u001b[39m c \u001b[38;5;241m*\u001b[39m J)\n\u001b[0;32m--> 366\u001b[0m converged, n_iter, y_new, d \u001b[38;5;241m=\u001b[39m \u001b[43msolve_bdf_system\u001b[49m\u001b[43m(\u001b[49m\n\u001b[1;32m    367\u001b[0m \u001b[43m    \u001b[49m\u001b[38;5;28;43mself\u001b[39;49m\u001b[38;5;241;43m.\u001b[39;49m\u001b[43mfun\u001b[49m\u001b[43m,\u001b[49m\u001b[43m \u001b[49m\u001b[43mt_new\u001b[49m\u001b[43m,\u001b[49m\u001b[43m \u001b[49m\u001b[43my_predict\u001b[49m\u001b[43m,\u001b[49m\u001b[43m \u001b[49m\u001b[43mc\u001b[49m\u001b[43m,\u001b[49m\u001b[43m \u001b[49m\u001b[43mpsi\u001b[49m\u001b[43m,\u001b[49m\u001b[43m \u001b[49m\u001b[43mLU\u001b[49m\u001b[43m,\u001b[49m\u001b[43m \u001b[49m\u001b[38;5;28;43mself\u001b[39;49m\u001b[38;5;241;43m.\u001b[39;49m\u001b[43msolve_lu\u001b[49m\u001b[43m,\u001b[49m\n\u001b[1;32m    368\u001b[0m \u001b[43m    \u001b[49m\u001b[43mscale\u001b[49m\u001b[43m,\u001b[49m\u001b[43m \u001b[49m\u001b[38;5;28;43mself\u001b[39;49m\u001b[38;5;241;43m.\u001b[39;49m\u001b[43mnewton_tol\u001b[49m\u001b[43m)\u001b[49m\n\u001b[1;32m    370\u001b[0m \u001b[38;5;28;01mif\u001b[39;00m \u001b[38;5;129;01mnot\u001b[39;00m converged:\n\u001b[1;32m    371\u001b[0m     \u001b[38;5;28;01mif\u001b[39;00m current_jac:\n",
      "File \u001b[0;32m~/miniconda3/envs/qsdsan/lib/python3.11/site-packages/scipy/integrate/_ivp/bdf.py:43\u001b[0m, in \u001b[0;36msolve_bdf_system\u001b[0;34m(fun, t_new, y_predict, c, psi, LU, solve_lu, scale, tol)\u001b[0m\n\u001b[1;32m     41\u001b[0m converged \u001b[38;5;241m=\u001b[39m \u001b[38;5;28;01mFalse\u001b[39;00m\n\u001b[1;32m     42\u001b[0m \u001b[38;5;28;01mfor\u001b[39;00m k \u001b[38;5;129;01min\u001b[39;00m \u001b[38;5;28mrange\u001b[39m(NEWTON_MAXITER):\n\u001b[0;32m---> 43\u001b[0m     f \u001b[38;5;241m=\u001b[39m \u001b[43mfun\u001b[49m\u001b[43m(\u001b[49m\u001b[43mt_new\u001b[49m\u001b[43m,\u001b[49m\u001b[43m \u001b[49m\u001b[43my\u001b[49m\u001b[43m)\u001b[49m\n\u001b[1;32m     44\u001b[0m     \u001b[38;5;28;01mif\u001b[39;00m \u001b[38;5;129;01mnot\u001b[39;00m np\u001b[38;5;241m.\u001b[39mall(np\u001b[38;5;241m.\u001b[39misfinite(f)):\n\u001b[1;32m     45\u001b[0m         \u001b[38;5;28;01mbreak\u001b[39;00m\n",
      "File \u001b[0;32m~/miniconda3/envs/qsdsan/lib/python3.11/site-packages/scipy/integrate/_ivp/base.py:154\u001b[0m, in \u001b[0;36mOdeSolver.__init__.<locals>.fun\u001b[0;34m(t, y)\u001b[0m\n\u001b[1;32m    152\u001b[0m \u001b[38;5;28;01mdef\u001b[39;00m \u001b[38;5;21mfun\u001b[39m(t, y):\n\u001b[1;32m    153\u001b[0m     \u001b[38;5;28mself\u001b[39m\u001b[38;5;241m.\u001b[39mnfev \u001b[38;5;241m+\u001b[39m\u001b[38;5;241m=\u001b[39m \u001b[38;5;241m1\u001b[39m\n\u001b[0;32m--> 154\u001b[0m     \u001b[38;5;28;01mreturn\u001b[39;00m \u001b[38;5;28;43mself\u001b[39;49m\u001b[38;5;241;43m.\u001b[39;49m\u001b[43mfun_single\u001b[49m\u001b[43m(\u001b[49m\u001b[43mt\u001b[49m\u001b[43m,\u001b[49m\u001b[43m \u001b[49m\u001b[43my\u001b[49m\u001b[43m)\u001b[49m\n",
      "File \u001b[0;32m~/miniconda3/envs/qsdsan/lib/python3.11/site-packages/scipy/integrate/_ivp/base.py:23\u001b[0m, in \u001b[0;36mcheck_arguments.<locals>.fun_wrapped\u001b[0;34m(t, y)\u001b[0m\n\u001b[1;32m     22\u001b[0m \u001b[38;5;28;01mdef\u001b[39;00m \u001b[38;5;21mfun_wrapped\u001b[39m(t, y):\n\u001b[0;32m---> 23\u001b[0m     \u001b[38;5;28;01mreturn\u001b[39;00m np\u001b[38;5;241m.\u001b[39masarray(\u001b[43mfun\u001b[49m\u001b[43m(\u001b[49m\u001b[43mt\u001b[49m\u001b[43m,\u001b[49m\u001b[43m \u001b[49m\u001b[43my\u001b[49m\u001b[43m)\u001b[49m, dtype\u001b[38;5;241m=\u001b[39mdtype)\n",
      "File \u001b[0;32m~/miniconda3/envs/qsdsan/lib/python3.11/site-packages/biosteam/_system.py:2149\u001b[0m, in \u001b[0;36mSystem._compile_DAE.<locals>.dydt\u001b[0;34m(t, y)\u001b[0m\n\u001b[1;32m   2147\u001b[0m \u001b[38;5;28;01mif\u001b[39;00m unit\u001b[38;5;241m.\u001b[39mhasode:\n\u001b[1;32m   2148\u001b[0m     QC_ins, QC, dQC_ins \u001b[38;5;241m=\u001b[39m unit\u001b[38;5;241m.\u001b[39m_ins_QC, unit\u001b[38;5;241m.\u001b[39m_state, unit\u001b[38;5;241m.\u001b[39m_ins_dQC\n\u001b[0;32m-> 2149\u001b[0m     \u001b[43mfunc\u001b[49m\u001b[43m(\u001b[49m\u001b[43mt\u001b[49m\u001b[43m,\u001b[49m\u001b[43m \u001b[49m\u001b[43mQC_ins\u001b[49m\u001b[43m,\u001b[49m\u001b[43m \u001b[49m\u001b[43mQC\u001b[49m\u001b[43m,\u001b[49m\u001b[43m \u001b[49m\u001b[43mdQC_ins\u001b[49m\u001b[43m)\u001b[49m   \u001b[38;5;66;03m# updates dstate\u001b[39;00m\n\u001b[1;32m   2150\u001b[0m \u001b[38;5;28;01melse\u001b[39;00m:\n\u001b[1;32m   2151\u001b[0m     QC_ins, dQC_ins \u001b[38;5;241m=\u001b[39m unit\u001b[38;5;241m.\u001b[39m_ins_QC, unit\u001b[38;5;241m.\u001b[39m_ins_dQC\n",
      "File \u001b[0;32m~/miniconda3/envs/qsdsan/lib/python3.11/site-packages/qsdsan/sanunits/_suspended_growth_bioreactor.py:279\u001b[0m, in \u001b[0;36mCSTR._compile_ODE.<locals>.dy_dt\u001b[0;34m(t, QC_ins, QC, dQC_ins)\u001b[0m\n\u001b[1;32m    277\u001b[0m dydt_cstr_no_rxn_controlled_aer(QC_ins, dQC_ins, V_arr, Q_e_arr, _dstate, QC)\n\u001b[1;32m    278\u001b[0m \u001b[38;5;28;01mif\u001b[39;00m hasexo: QC \u001b[38;5;241m=\u001b[39m np\u001b[38;5;241m.\u001b[39mappend(QC, f_exovars(t))\n\u001b[0;32m--> 279\u001b[0m _dstate[:\u001b[38;5;241m-\u001b[39m\u001b[38;5;241m1\u001b[39m] \u001b[38;5;241m+\u001b[39m\u001b[38;5;241m=\u001b[39m \u001b[43mr\u001b[49m\u001b[43m(\u001b[49m\u001b[43mQC\u001b[49m\u001b[43m)\u001b[49m\n\u001b[1;32m    280\u001b[0m _dstate[i] \u001b[38;5;241m=\u001b[39m \u001b[38;5;241m0\u001b[39m\n\u001b[1;32m    281\u001b[0m _update_dstate()\n",
      "File \u001b[0;32m~/miniconda3/envs/qsdsan/lib/python3.11/site-packages/qsdsan/_process.py:1272\u001b[0m, in \u001b[0;36mCompiledProcesses.production_rates_eval\u001b[0;34m(self, state_arr)\u001b[0m\n\u001b[1;32m   1270\u001b[0m \u001b[38;5;28mself\u001b[39m\u001b[38;5;241m.\u001b[39mparams_eval(state_arr)\n\u001b[1;32m   1271\u001b[0m M_stoichio \u001b[38;5;241m=\u001b[39m \u001b[38;5;28mself\u001b[39m\u001b[38;5;241m.\u001b[39mstoichio_eval()\n\u001b[0;32m-> 1272\u001b[0m rho_arr \u001b[38;5;241m=\u001b[39m \u001b[38;5;28;43mself\u001b[39;49m\u001b[38;5;241;43m.\u001b[39;49m\u001b[43mrate_function\u001b[49m\u001b[43m(\u001b[49m\u001b[43mstate_arr\u001b[49m\u001b[43m)\u001b[49m\n\u001b[1;32m   1273\u001b[0m \u001b[38;5;28;01mreturn\u001b[39;00m np\u001b[38;5;241m.\u001b[39mdot(M_stoichio\u001b[38;5;241m.\u001b[39mT, rho_arr)\n",
      "File \u001b[0;32m~/miniconda3/envs/qsdsan/lib/python3.11/site-packages/qsdsan/_process.py:284\u001b[0m, in \u001b[0;36mMultiKinetics.__call__\u001b[0;34m(self, state_arr)\u001b[0m\n\u001b[1;32m    279\u001b[0m \u001b[38;5;250m\u001b[39m\u001b[38;5;124;03m'''Return the evaluated array of kinetic rates when given\u001b[39;00m\n\u001b[1;32m    280\u001b[0m \u001b[38;5;124;03man array of state variables.'''\u001b[39;00m\n\u001b[1;32m    281\u001b[0m \u001b[38;5;66;03m#!!! consider allow function to return multiple outputs including rho values,\u001b[39;00m\n\u001b[1;32m    282\u001b[0m \u001b[38;5;66;03m# updated parameter value, and/or intermediate variables that are useful but\u001b[39;00m\n\u001b[1;32m    283\u001b[0m \u001b[38;5;66;03m# don't need integration\u001b[39;00m\n\u001b[0;32m--> 284\u001b[0m \u001b[38;5;28;01mreturn\u001b[39;00m \u001b[38;5;28;43mself\u001b[39;49m\u001b[38;5;241;43m.\u001b[39;49m\u001b[43mfunction\u001b[49m\u001b[43m(\u001b[49m\u001b[43mstate_arr\u001b[49m\u001b[43m,\u001b[49m\u001b[43m \u001b[49m\u001b[38;5;28;43mself\u001b[39;49m\u001b[38;5;241;43m.\u001b[39;49m\u001b[43mparams\u001b[49m\u001b[43m)\u001b[49m\n",
      "File \u001b[0;32m~/miniconda3/envs/qsdsan/lib/python3.11/site-packages/qsdsan/_process.py:256\u001b[0m, in \u001b[0;36mMultiKinetics._collect_kinetics.<locals>.f\u001b[0;34m(state_arr, params)\u001b[0m\n\u001b[1;32m    255\u001b[0m \u001b[38;5;28;01mdef\u001b[39;00m \u001b[38;5;21mf\u001b[39m(state_arr, params):\n\u001b[0;32m--> 256\u001b[0m     rho_arr[:] \u001b[38;5;241m=\u001b[39m \u001b[43m[\u001b[49m\u001b[43mp\u001b[49m\u001b[38;5;241;43m.\u001b[39;49m\u001b[43mrate_function\u001b[49m\u001b[38;5;241;43m.\u001b[39;49m\u001b[43mfunction\u001b[49m\u001b[43m(\u001b[49m\u001b[43mstate_arr\u001b[49m\u001b[43m,\u001b[49m\n\u001b[1;32m    257\u001b[0m \u001b[43m                                           \u001b[49m\u001b[43m{\u001b[49m\u001b[38;5;241;43m*\u001b[39;49m\u001b[38;5;241;43m*\u001b[39;49m\u001b[43mp\u001b[49m\u001b[38;5;241;43m.\u001b[39;49m\u001b[43mrate_function\u001b[49m\u001b[38;5;241;43m.\u001b[39;49m\u001b[43mparams\u001b[49m\u001b[43m,\u001b[49m\u001b[43m \u001b[49m\u001b[38;5;241;43m*\u001b[39;49m\u001b[38;5;241;43m*\u001b[39;49m\u001b[43mparams\u001b[49m\u001b[43m}\u001b[49m\u001b[43m)\u001b[49m\n\u001b[1;32m    258\u001b[0m \u001b[43m                  \u001b[49m\u001b[38;5;28;43;01mfor\u001b[39;49;00m\u001b[43m \u001b[49m\u001b[43mp\u001b[49m\u001b[43m \u001b[49m\u001b[38;5;129;43;01min\u001b[39;49;00m\u001b[43m \u001b[49m\u001b[43mpcs\u001b[49m\u001b[43m]\u001b[49m\n\u001b[1;32m    259\u001b[0m     \u001b[38;5;28;01mreturn\u001b[39;00m rho_arr\n",
      "File \u001b[0;32m~/miniconda3/envs/qsdsan/lib/python3.11/site-packages/qsdsan/_process.py:256\u001b[0m, in \u001b[0;36m<listcomp>\u001b[0;34m(.0)\u001b[0m\n\u001b[1;32m    255\u001b[0m \u001b[38;5;28;01mdef\u001b[39;00m \u001b[38;5;21mf\u001b[39m(state_arr, params):\n\u001b[0;32m--> 256\u001b[0m     rho_arr[:] \u001b[38;5;241m=\u001b[39m [\u001b[43mp\u001b[49m\u001b[38;5;241;43m.\u001b[39;49m\u001b[43mrate_function\u001b[49m\u001b[38;5;241;43m.\u001b[39;49m\u001b[43mfunction\u001b[49m\u001b[43m(\u001b[49m\u001b[43mstate_arr\u001b[49m\u001b[43m,\u001b[49m\n\u001b[1;32m    257\u001b[0m \u001b[43m                                           \u001b[49m\u001b[43m{\u001b[49m\u001b[38;5;241;43m*\u001b[39;49m\u001b[38;5;241;43m*\u001b[39;49m\u001b[43mp\u001b[49m\u001b[38;5;241;43m.\u001b[39;49m\u001b[43mrate_function\u001b[49m\u001b[38;5;241;43m.\u001b[39;49m\u001b[43mparams\u001b[49m\u001b[43m,\u001b[49m\u001b[43m \u001b[49m\u001b[38;5;241;43m*\u001b[39;49m\u001b[38;5;241;43m*\u001b[39;49m\u001b[43mparams\u001b[49m\u001b[43m}\u001b[49m\u001b[43m)\u001b[49m\n\u001b[1;32m    258\u001b[0m                   \u001b[38;5;28;01mfor\u001b[39;00m p \u001b[38;5;129;01min\u001b[39;00m pcs]\n\u001b[1;32m    259\u001b[0m     \u001b[38;5;28;01mreturn\u001b[39;00m rho_arr\n",
      "File \u001b[0;32m~/miniconda3/envs/qsdsan/lib/python3.11/site-packages/qsdsan/_process.py:695\u001b[0m, in \u001b[0;36mProcess._rate_eq2func.<locals>.f\u001b[0;34m(state_arr, params)\u001b[0m\n\u001b[1;32m    694\u001b[0m \u001b[38;5;28;01mdef\u001b[39;00m \u001b[38;5;21mf\u001b[39m(state_arr, params\u001b[38;5;241m=\u001b[39m{}):\n\u001b[0;32m--> 695\u001b[0m     \u001b[38;5;28;01mreturn\u001b[39;00m \u001b[43mlamb\u001b[49m\u001b[43m(\u001b[49m\u001b[38;5;241;43m*\u001b[39;49m\u001b[43mstate_arr\u001b[49m\u001b[43m,\u001b[49m\u001b[43m \u001b[49m\u001b[38;5;241;43m*\u001b[39;49m\u001b[38;5;241;43m*\u001b[39;49m\u001b[43mparams\u001b[49m\u001b[43m)\u001b[49m\n",
      "\u001b[0;31mKeyboardInterrupt\u001b[0m: "
     ]
    }
   ],
   "source": [
    "test_sys.dynamic_run(t_span = (0, 10),\n",
    "                     state_reset_hook = \"reset_cache\", method = \"BDF\")"
   ]
  },
  {
   "cell_type": "code",
   "execution_count": 19,
   "id": "fb2a096f",
   "metadata": {},
   "outputs": [],
   "source": [
    "test_sys.scope.export(\"test_series.csv\", t_eval = np.arange(0, 10.1, 0.1))"
   ]
  }
 ],
 "metadata": {
  "kernelspec": {
   "display_name": "Python 3 (ipykernel)",
   "language": "python",
   "name": "python3"
  },
  "language_info": {
   "codemirror_mode": {
    "name": "ipython",
    "version": 3
   },
   "file_extension": ".py",
   "mimetype": "text/x-python",
   "name": "python",
   "nbconvert_exporter": "python",
   "pygments_lexer": "ipython3",
   "version": "3.11.4"
  }
 },
 "nbformat": 4,
 "nbformat_minor": 5
}
