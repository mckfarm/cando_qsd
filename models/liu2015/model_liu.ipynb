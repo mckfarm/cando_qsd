{
 "cells": [
  {
   "cell_type": "markdown",
   "metadata": {},
   "source": [
    "# DPAO model for N2O production"
   ]
  },
  {
   "cell_type": "code",
   "execution_count": 1,
   "metadata": {},
   "outputs": [],
   "source": [
    "# package import\n",
    "import pandas as pd\n",
    "import numpy as np\n",
    "import qsdsan as qs\n",
    "import biosteam as bst\n",
    "\n",
    "# set key variables\n",
    "su = qs.sanunits"
   ]
  },
  {
   "cell_type": "markdown",
   "metadata": {},
   "source": [
    "# Set up components\n",
    "I ended up doing this manually rather than through a spreadsheet...I think I could revise my spreadsheet to make this work as an import though."
   ]
  },
  {
   "cell_type": "code",
   "execution_count": 2,
   "metadata": {},
   "outputs": [],
   "source": [
    "# water\n",
    "H2O = qs.Component(ID='H2O', search_ID='H2O',\n",
    "                    particle_size='Soluble', degradability='Undegradable',\n",
    "                    organic=False)\n",
    "\n",
    "# substrate \n",
    "\n",
    "S_NO3 = qs.Component('S_NO3', search_ID='Nitrate', measured_as='N', phase='l',\n",
    "                    particle_size='Soluble', degradability='Undegradable',\n",
    "                    organic=False)\n",
    "\n",
    "S_NO2 = qs.Component('S_NO2', search_ID='PubChem=946', measured_as='N', phase='l',\n",
    "                    particle_size='Soluble', degradability='Undegradable',\n",
    "                    organic=False)\n",
    "\n",
    "S_NO = qs.Component('S_NO', search_ID='Nitric oxide', measured_as='N', phase='l',\n",
    "                    particle_size='Soluble', degradability='Undegradable',\n",
    "                    organic=False)\n",
    "\n",
    "S_N2O = qs.Component('S_N2O', search_ID='Nitrous oxide', measured_as='N', phase='g',\n",
    "                    particle_size='Dissolved gas', degradability='Undegradable',\n",
    "                    organic=False)\n",
    "\n",
    "S_N2 = qs.Component('S_N2', search_ID='Nitrogen gas', measured_as='N', phase='g',\n",
    "                    particle_size='Dissolved gas', degradability='Undegradable',\n",
    "                    organic=False)\n",
    "\n",
    "S_O2 = qs.Component('S_O2', search_ID='Oxygen', measured_as='', phase='g',\n",
    "                    particle_size='Dissolved gas', degradability='Undegradable',\n",
    "                    organic=False)\n",
    "\n",
    "S_PO4 = qs.Component('S_PO4', search_ID='Orthophosphate', measured_as='P', phase='l',\n",
    "                    particle_size='Soluble', degradability='Undegradable',\n",
    "                    organic=False)\n",
    "\n",
    "\n",
    "## C source\n",
    "S_S = qs.Component('S_S', search_ID='Acetate', measured_as = 'COD', phase='l',\n",
    "                     particle_size = 'Soluble', degradability = 'Readily',\n",
    "                     organic = True)\n",
    "\n",
    "# particulates\n",
    "X_DPAO = qs.Component('X_DPAO', formula = 'C5H7O2N', measured_as = 'COD', phase='l',\n",
    "                     particle_size = 'Particulate', degradability = 'Biological',\n",
    "                     organic = True)\n",
    "\n",
    "X_PHA = qs.Component('X_PHA', measured_as = 'COD', phase='l',\n",
    "                     particle_size = 'Particulate', degradability = 'Slowly',\n",
    "                     organic = True)\n",
    "\n",
    "X_PP = qs.Component('X_PP', measured_as = 'P', phase='l',\n",
    "                     particle_size = 'Particulate', degradability = 'Undegradable',\n",
    "                     organic = False)\n",
    "\n",
    "X_I = qs.Component('X_I', measured_as = 'COD', phase='l',\n",
    "                     particle_size = 'Particulate', degradability = 'Undegradable',\n",
    "                     organic = True)\n",
    "\n",
    "# make into components obj\n",
    "cmps = qs.Components((H2O, S_NO3, S_NO2, S_NO, S_N2O, S_N2, S_PO4, S_O2, S_S, X_DPAO, X_PHA, X_PP, X_I))"
   ]
  },
  {
   "cell_type": "code",
   "execution_count": 3,
   "metadata": {},
   "outputs": [],
   "source": [
    "# fill in cmps with some additional data, filling in thermosteam blanks with properties of water\n",
    "\n",
    "for i in cmps:\n",
    "    if i is H2O:\n",
    "        continue # continue means skip the rest of the codes and continue with the next one in the loop\n",
    "    i.default()\n",
    "    i.copy_models_from(H2O, names=('sigma', 'epsilon', 'kappa', 'V', 'Cn', 'mu'))\n",
    "\n",
    "cmps.compile()\n",
    "\n",
    "# set as default components for the rest of the file\n",
    "qs.set_thermo(cmps) "
   ]
  },
  {
   "cell_type": "markdown",
   "metadata": {},
   "source": [
    "# Set up process\n",
    "This is entirely coded in a spreadsheet. The only annoying part was typing in all the parameters manually."
   ]
  },
  {
   "cell_type": "code",
   "execution_count": 4,
   "metadata": {},
   "outputs": [],
   "source": [
    "# liu = qs.Processes.load_from_file(path = \"test_process.tsv\", \n",
    "#                             conserved_for=(\"C\", \"P\"),\n",
    "#                             parameters=(\"Y_PO4\", \"Y_PHA\", \"Y_DPAO_NOX\", \n",
    "#                                         \"i_P_BM\", \"i_P_XI\", \"f_I\",\n",
    "#                                          \"q_PHA\", \"K_S_DPAO\", \"K_PP_DPAO\", \"q_PP\", \"K_PO4_PP\", \"K_PHA\",\n",
    "#                                          \"K_MAX_DPAO\", \"K_iPP_DPAO\", \"K_DPAO_PO4\", \n",
    "#                                          \"mu_DPAO1\", \"mu_DPAO2\", \"mu_DPAO3\", \"mu_DPAO4\",\n",
    "#                                          \"K_NO3\", \"K_NO2\", \"K_NO\", \"K_N2O\",\n",
    "#                                          \"b_DPAO\", \"b_PP\", \"b_PHA\", \"K_NOX\"),\n",
    "#                             compile = True)\n",
    "\n",
    "liu = qs.Processes.load_from_file(path = \"test_process.tsv\",\n",
    "                                  compile = True)"
   ]
  },
  {
   "cell_type": "code",
   "execution_count": 7,
   "metadata": {},
   "outputs": [],
   "source": [
    "# values taken directly from SI of Liu paper\n",
    "liu.set_parameters(Y_PO4 = 0.3, Y_PHA = 0.2, Y_DPAO_NOX = 0.5,\n",
    "                   i_P_BM = 0.02, i_P_XI = 0.01, f_I = 0.2,\n",
    "                   q_PHA = 0.53, K_S_DPAO = 10, K_PP_DPAO = 0.05, \n",
    "                   q_PP = 0.0375, K_PO4_PP = 0.2, K_PHA = 0.1,\n",
    "                   K_MAX_DPAO = 0.2, K_iPP_DPAO = 0.05, K_DPAO_PO4 = 0.05, \n",
    "                   mu_DPAO1 = 0.07, mu_DPAO2 = 0.019, mu_DPAO3 = 0.142, mu_DPAO4 = 0.018, \n",
    "                   K_NO3 = 0.251, K_NO2 = 0.81, K_NO = 0.0021, K_N2O = 0.0052, K_NOX = 0.5,\n",
    "                   b_DPAO = 0.005, b_PP = 0.005, b_PHA = 0.005)\n",
    "\n",
    "# check for stoichiometric matrix completion\n",
    "# liu.stoichio_eval()"
   ]
  },
  {
   "cell_type": "markdown",
   "metadata": {},
   "source": [
    "# Setting up waste stream"
   ]
  },
  {
   "cell_type": "code",
   "execution_count": 8,
   "metadata": {},
   "outputs": [
    {
     "name": "stdout",
     "output_type": "stream",
     "text": [
      "WasteStream: inf\n",
      "phase: 'l', T: 298.15 K, P: 101325 Pa\n",
      "flow (g/hr): H2O    9.97e+04\n",
      "             S_PO4  1\n",
      "             S_S    10\n",
      " WasteStream-specific properties:\n",
      "  pH         : 7.0\n",
      "  Alkalinity : 2.5 mg/L\n",
      "  COD        : 100.0 mg/L\n",
      "  TC         : 37.5 mg/L\n",
      "  TOC        : 37.5 mg/L\n",
      "  TP         : 10.0 mg/L\n",
      " Component concentrations (mg/L):\n",
      "  H2O     997032.6\n",
      "  S_PO4   10.0\n",
      "  S_S     100.0\n",
      "WasteStream: nit\n",
      "phase: 'l', T: 298.15 K, P: 101325 Pa\n",
      "flow (g/hr): H2O    10\n",
      "             S_NO2  0.5\n",
      " WasteStream-specific properties:\n",
      "  pH         : 7.0\n",
      "  Alkalinity : 2.5 mg/L\n",
      "  TN         : 48895.9 mg/L\n",
      " Component concentrations (mg/L):\n",
      "  H2O     977917.2\n",
      "  S_NO2   48895.9\n"
     ]
    }
   ],
   "source": [
    "inf = qs.WasteStream(\"inf\")\n",
    "inf.set_flow_by_concentration(flow_tot=100, \n",
    "                              concentrations={\"S_S\":100, \"S_PO4\":10}, \n",
    "                              units=(\"L/hr\", \"mg/L\", \"mg/L\"))\n",
    "inf.show()\n",
    "\n",
    "nit = qs.WasteStream(\"nit\", H2O = 10, S_NO2 = 0.5, units = \"g/hr\")\n",
    "nit.show()"
   ]
  },
  {
   "cell_type": "markdown",
   "metadata": {},
   "source": [
    "# Setting up san units"
   ]
  },
  {
   "cell_type": "code",
   "execution_count": 11,
   "metadata": {},
   "outputs": [
    {
     "name": "stderr",
     "output_type": "stream",
     "text": [
      "/projects/b1052/mckenna/envs/qsdsan/lib/python3.11/site-packages/IPython/core/interactiveshell.py:3508: RuntimeWarning: <CSTR: ana> has been replaced in registry\n",
      "  exec(code_obj, self.user_global_ns, self.user_ns)\n",
      "/projects/b1052/mckenna/envs/qsdsan/lib/python3.11/site-packages/biosteam/utils/piping.py:324: RuntimeWarning: <WasteStream: recycle> has been replaced in registry\n",
      "  s = Stream(i, thermo=thermo)\n",
      "/projects/b1052/mckenna/envs/qsdsan/lib/python3.11/site-packages/qsdsan/_sanunit.py:289: RuntimeWarning: <System: ana_dynmock> has been replaced in registry\n",
      "  self._mock_dyn_sys = System(self.ID+'_dynmock', path=(self,))\n",
      "/projects/b1052/mckenna/envs/qsdsan/lib/python3.11/site-packages/IPython/core/interactiveshell.py:3508: RuntimeWarning: <CSTR: anx> has been replaced in registry\n",
      "  exec(code_obj, self.user_global_ns, self.user_ns)\n",
      "/projects/b1052/mckenna/envs/qsdsan/lib/python3.11/site-packages/qsdsan/_sanunit.py:289: RuntimeWarning: <System: anx_dynmock> has been replaced in registry\n",
      "  self._mock_dyn_sys = System(self.ID+'_dynmock', path=(self,))\n",
      "/projects/b1052/mckenna/envs/qsdsan/lib/python3.11/site-packages/IPython/core/interactiveshell.py:3508: RuntimeWarning: <Splitter: s1> has been replaced in registry\n",
      "  exec(code_obj, self.user_global_ns, self.user_ns)\n",
      "/projects/b1052/mckenna/envs/qsdsan/lib/python3.11/site-packages/biosteam/utils/piping.py:310: RuntimeWarning: <WasteStream: liquid_eff> has been replaced in registry\n",
      "  else dock(Stream(i, thermo=thermo)) for i in streams]\n",
      "/tmp/ipykernel_268562/2123190282.py:10: RuntimeWarning: <System: test_sys> has been replaced in registry\n",
      "  test_sys = bst.System(\"test_sys\", path = (ana, anx, sep), recycle = sep - 1)\n"
     ]
    }
   ],
   "source": [
    "ana = su.CSTR(\"ana\", ins = (inf, \"recycle\"), suspended_growth_model = liu, isdynamic = True)\n",
    "ana.set_init_conc(X_DPAO = 1000, X_PHA = 500, X_PP = 500, X_I = 200)\n",
    "\n",
    "anx = su.CSTR(\"anx\", ins = (ana-0, nit), suspended_growth_model = liu, isdynamic = True)\n",
    "anx.set_init_conc(X_DPAO = 1000, X_PHA = 500, X_PP = 500, X_I = 200)\n",
    "\n",
    "split_dict = {i.ID: 0.9 if i.particle_size != 'Particulate' else 0 for i in cmps}\n",
    "sep = su.Splitter(\"s1\", ins = anx-0, outs = (\"liquid_eff\", 1-ana), split = split_dict)\n",
    "\n",
    "test_sys = bst.System(\"test_sys\", path = (ana, anx, sep), recycle = sep - 1)\n",
    "\n",
    "# test_sys.diagram()"
   ]
  },
  {
   "cell_type": "code",
   "execution_count": 12,
   "metadata": {},
   "outputs": [],
   "source": [
    "liquid_eff = test_sys.flowsheet.stream.liquid_eff\n",
    "ml_ana = test_sys.flowsheet.unit.ana\n",
    "ml_anx = test_sys.flowsheet.unit.anx\n",
    "\n",
    "test_sys.set_dynamic_tracker(liquid_eff, ml_ana, ml_anx)"
   ]
  },
  {
   "cell_type": "code",
   "execution_count": 26,
   "metadata": {},
   "outputs": [],
   "source": [
    "test_sys.dynamic_run(t_span = (0, 1), t_eval = np.arange(0, 1.01, 0.01), \n",
    "                     state_reset_hook = \"reset_cache\", method = \"BDF\")"
   ]
  },
  {
   "cell_type": "code",
   "execution_count": 28,
   "metadata": {},
   "outputs": [],
   "source": [
    "test_sys.scope.export(\"test_series.csv\", t_eval = np.arange(0, 1.01, 0.01))"
   ]
  }
 ],
 "metadata": {
  "kernelspec": {
   "display_name": "Python (qsdsan)",
   "language": "python",
   "name": "qsdsan"
  },
  "language_info": {
   "codemirror_mode": {
    "name": "ipython",
    "version": 3
   },
   "file_extension": ".py",
   "mimetype": "text/x-python",
   "name": "python",
   "nbconvert_exporter": "python",
   "pygments_lexer": "ipython3",
   "version": "3.11.4"
  }
 },
 "nbformat": 4,
 "nbformat_minor": 5
}
